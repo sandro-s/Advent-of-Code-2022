{
 "cells": [
  {
   "cell_type": "markdown",
   "metadata": {},
   "source": [
    "## Advent of Code 2022\n",
    "### Day 3: Rucksack Reorganization\n",
    "#### Part 1\n",
    "\n",
    "One Elf has the important job of loading all of the rucksacks with supplies for the jungle journey. Unfortunately, that Elf didn't quite follow the packing instructions, and so a few items now need to be rearranged.\n",
    "\n",
    "Each rucksack has two large compartments. All items of a given type are meant to go into exactly one of the two compartments. The Elf that did the packing failed to follow this rule for exactly one item type per rucksack.\n",
    "\n",
    "The Elves have made a list of all of the items currently in each rucksack (your puzzle input), but they need your help finding the errors. Every item type is identified by a single lowercase or uppercase letter (that is, a and A refer to different types of items).\n",
    "\n",
    "The list of items for each rucksack is given as characters all on a single line. A given rucksack always has the same number of items in each of its two compartments, so the first half of the characters represent items in the first compartment, while the second half of the characters represent items in the second compartment.\n",
    "\n",
    "For example, suppose you have the following list of contents from six rucksacks:\n",
    "\n",
    "<code>\n",
    "vJrwpWtwJgWrhcsFMMfFFhFp<br>\n",
    "jqHRNqRjqzjGDLGLrsFMfFZSrLrFZsSL<br>\n",
    "PmmdzqPrVvPwwTWBwg<br>\n",
    "wMqvLMZHhHMvwLHjbvcjnnSBnvTQFn<br>\n",
    "ttgJtRGJQctTZtZT<br>\n",
    "CrZsJsPPZsGzwwsLwLmpwMDw<br>\n",
    "</code>\n",
    "\n",
    "The first rucksack contains the items <code>vJrwpWtwJgWrhcsFMMfFFhFp</code>, which means its first compartment contains the items <code>vJrwpWtwJgWr</code>, while the second compartment contains the items <code>hcsFMMfFFhFp</code>. The only item type that appears in both compartments is lowercase <code>p</code>.\n",
    "The second rucksack's compartments contain <code>jqHRNqRjqzjGDLGL</code> and <code>rsFMfFZSrLrFZsSL</code>. The only item type that appears in both compartments is uppercase <code>L</code>.\n",
    "The third rucksack's compartments contain <code>PmmdzqPrV</code> and <code>vPwwTWBwg</code>; the only common item type is uppercase <code>P</code>.\n",
    "The fourth rucksack's compartments only share item type <code>v</code>.\n",
    "The fifth rucksack's compartments only share item type <code>t</code>.\n",
    "The sixth rucksack's compartments only share item type <code>s</code>.\n",
    "\n",
    "To help prioritize item rearrangement, every item type can be converted to a priority:\n",
    "\n",
    "Lowercase item types <code>a</code> through <code>z</code> have priorities <code>1</code> through <code>26</code>.\n",
    "Uppercase item types <code>A</code> through <code>Z</code> have priorities <code>27</code> through <code>52</code>.\n",
    "\n",
    "In the above example, the priority of the item type that appears in both compartments of each rucksack is <code>16</code> (<code>p</code>), <code>38</code> (<code>L</code>), <code>42</code> (<code>P</code>), <code>22</code> (<code>v</code>), <code>20</code> (<code>t</code>), and <code>19</code> (<code>s</code>); the sum of these is <code><b><u>157</u></b></code>.\n",
    "\n",
    "Find the item type that appears in both compartments of each rucksack. What is the sum of the priorities of those item types?"
   ]
  },
  {
   "cell_type": "code",
   "execution_count": 33,
   "metadata": {},
   "outputs": [
    {
     "name": "stdout",
     "output_type": "stream",
     "text": [
      "Sum of priorities is 8109.\n"
     ]
    }
   ],
   "source": [
    "with open('input.txt', mode='r') as input:\n",
    "    sumOfPriorities = 0\n",
    "    for line in input:\n",
    "        compartment_1 = line[0: int(len(line)/2)]\n",
    "        compartment_2 = line[int(len(line)/2):]\n",
    "        itemsInCompartment_1 = []\n",
    "        for item in compartment_1:\n",
    "            if item not in itemsInCompartment_1:\n",
    "                itemsInCompartment_1.append(item)\n",
    "        for item in compartment_2:\n",
    "            if item in itemsInCompartment_1:\n",
    "                commonItem = item\n",
    "        if commonItem.isupper():\n",
    "            priority = ord(commonItem) - 38\n",
    "        else:\n",
    "            priority = ord(commonItem) - 96\n",
    "        sumOfPriorities += priority\n",
    "\n",
    "print(f'Sum of priorities is {sumOfPriorities}.')"
   ]
  },
  {
   "cell_type": "markdown",
   "metadata": {},
   "source": [
    "### Part 2\n",
    "\n",
    "As you finish identifying the misplaced items, the Elves come to you with another issue.\n",
    "\n",
    "For safety, the Elves are divided into groups of three. Every Elf carries a badge that identifies their group. For efficiency, within each group of three Elves, the badge is the only item type carried by all three Elves. That is, if a group's badge is item type B, then all three Elves will have item type B somewhere in their rucksack, and at most two of the Elves will be carrying any other item type.\n",
    "\n",
    "The problem is that someone forgot to put this year's updated authenticity sticker on the badges. All of the badges need to be pulled out of the rucksacks so the new authenticity stickers can be attached.\n",
    "\n",
    "Additionally, nobody wrote down which item type corresponds to each group's badges. The only way to tell which item type is the right one is by finding the one item type that is common between all three Elves in each group.\n",
    "\n",
    "Every set of three lines in your list corresponds to a single group, but each group can have a different badge item type. So, in the above example, the first group's rucksacks are the first three lines:\n",
    "\n",
    "<code>\n",
    "vJrwpWtwJgWrhcsFMMfFFhFp<br>\n",
    "jqHRNqRjqzjGDLGLrsFMfFZSrLrFZsSL<br>\n",
    "PmmdzqPrVvPwwTWBwg<br>\n",
    "</code>\n",
    "\n",
    "And the second group's rucksacks are the next three lines:\n",
    "\n",
    "<code>\n",
    "wMqvLMZHhHMvwLHjbvcjnnSBnvTQFn<br>\n",
    "ttgJtRGJQctTZtZT<br>\n",
    "CrZsJsPPZsGzwwsLwLmpwMDw<br>\n",
    "</code>\n",
    "\n",
    "In the first group, the only item type that appears in all three rucksacks is lowercase <code>r</code>; this must be their badges. In the second group, their badge item type must be <code>Z</code>.\n",
    "\n",
    "Priorities for these items must still be found to organize the sticker attachment efforts: here, they are <code>18</code> (<code>r</code>) for the first group and <code>52</code> (<code>Z</code>) for the second group. The sum of these is <code><b><u>70</u></b></code>.\n",
    "\n",
    "Find the item type that corresponds to the badges of each three-Elf group. What is the sum of the priorities of those item types?"
   ]
  },
  {
   "cell_type": "code",
   "execution_count": null,
   "metadata": {},
   "outputs": [],
   "source": [
    "with open('demo-input.txt', mode='r') as input:\n",
    "    sumOfPriorities = 0\n",
    "    groupRucksacks = []\n",
    "    for line in input:\n",
    "        itemsInRucksack_1 = []\n",
    "        itemsInRucksack_2 = []\n",
    "        itemsInRucksack_3 = []\n",
    "        groupRucksacks.append(line)\n",
    "        if len(groupRucksacks) == 3:\n",
    "            for item in groupRucksacks[0]:\n",
    "                if item not in itemsInRucksack_1:\n",
    "                    itemsInRucksack_1.append(item)"
   ]
  }
 ],
 "metadata": {
  "kernelspec": {
   "display_name": "Python 3.8.10 64-bit",
   "language": "python",
   "name": "python3"
  },
  "language_info": {
   "codemirror_mode": {
    "name": "ipython",
    "version": 3
   },
   "file_extension": ".py",
   "mimetype": "text/x-python",
   "name": "python",
   "nbconvert_exporter": "python",
   "pygments_lexer": "ipython3",
   "version": "3.8.10"
  },
  "orig_nbformat": 4,
  "vscode": {
   "interpreter": {
    "hash": "2093f9e1edc3920636981838ea6b75ab40d7aa7138e79dc3644b818b0765088a"
   }
  }
 },
 "nbformat": 4,
 "nbformat_minor": 2
}
