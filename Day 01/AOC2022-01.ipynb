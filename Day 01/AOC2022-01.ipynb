{
 "cells": [
  {
   "attachments": {},
   "cell_type": "markdown",
   "metadata": {},
   "source": [
    "## Advent of Code 2022\n",
    "### Day 1\n",
    "#### Part 1\n",
    "\n",
    "The jungle must be too overgrown and difficult to navigate in vehicles or access from the air; the Elves' expedition traditionally goes on foot. As your boats approach land, the Elves begin taking inventory of their supplies. One important consideration is food - in particular, the number of Calories each Elf is carrying (your puzzle input).\n",
    "\n",
    "The Elves take turns writing down the number of Calories contained by the various meals, snacks, rations, etc. that they've brought with them, one item per line. Each Elf separates their own inventory from the previous Elf's inventory (if any) by a blank line.\n",
    "\n",
    "For example, suppose the Elves finish writing their items' Calories and end up with the following list:\n",
    "\n",
    "<code>\n",
    "1000<br>\n",
    "2000<br>\n",
    "3000<br>\n",
    "<br>\n",
    "4000<br>\n",
    "<br>\n",
    "5000<br>\n",
    "6000<br>\n",
    "<br>\n",
    "7000<br>\n",
    "8000<br>\n",
    "9000<br>\n",
    "<br>\n",
    "10000<br>\n",
    "</code>\n",
    "\n",
    "This list represents the Calories of the food carried by five Elves:\n",
    "\n",
    "The first Elf is carrying food with 1000, 2000, and 3000 Calories, a total of 6000 Calories.\n",
    "The second Elf is carrying one food item with 4000 Calories.\n",
    "The third Elf is carrying food with 5000 and 6000 Calories, a total of 11000 Calories.\n",
    "The fourth Elf is carrying food with 7000, 8000, and 9000 Calories, a total of 24000 Calories.\n",
    "The fifth Elf is carrying one food item with 10000 Calories.\n",
    "In case the Elves get hungry and need extra snacks, they need to know which Elf to ask: they'd like to know how many Calories are being carried by the Elf carrying the most Calories. In the example above, this is 24000 (carried by the fourth Elf).\n",
    "\n",
    "Find the Elf carrying the most Calories. How many total Calories is that Elf carrying?"
   ]
  },
  {
   "cell_type": "code",
   "execution_count": 1,
   "metadata": {},
   "outputs": [
    {
     "name": "stdout",
     "output_type": "stream",
     "text": [
      "Elf which is carrying the most Calories is 2, he's carrying total of 70369.0 Calories.\n"
     ]
    }
   ],
   "source": [
    "currentElf = 1\n",
    "currentElfCalories = 0\n",
    "\n",
    "richestElf = 1\n",
    "richestElfCalories = 0\n",
    "\n",
    "with open('input.txt', mode='r') as input:\n",
    "    for line in input:\n",
    "       try:\n",
    "           if line in ['\\n']:\n",
    "               if currentElfCalories > richestElfCalories:\n",
    "                   richestElfCalories = currentElfCalories\n",
    "                   richestElf = currentElf\n",
    "               currentElf += 1\n",
    "               currentElfCalories = 0\n",
    "           calories = float(line)\n",
    "           currentElfCalories += calories\n",
    "       except ValueError:\n",
    "           pass\n",
    "       \n",
    "print(f'Elf which is carrying the most Calories is {richestElf}, he\\'s carrying total of {richestElfCalories} Calories.')"
   ]
  },
  {
   "attachments": {},
   "cell_type": "markdown",
   "metadata": {},
   "source": [
    "#### Part 2\n",
    "\n",
    "By the time you calculate the answer to the Elves' question, they've already realized that the Elf carrying the most Calories of food might eventually run out of snacks.\n",
    "\n",
    "To avoid this unacceptable situation, the Elves would instead like to know the total Calories carried by the top three Elves carrying the most Calories. That way, even if one of those Elves runs out of snacks, they still have two backups.\n",
    "\n",
    "In the example above, the top three Elves are the fourth Elf (with 24000 Calories), then the third Elf (with 11000 Calories), then the fifth Elf (with 10000 Calories). The sum of the Calories carried by these three elves is 45000.\n",
    "\n",
    "Find the top three Elves carrying the most Calories. How many Calories are those Elves carrying in total?"
   ]
  },
  {
   "cell_type": "code",
   "execution_count": 2,
   "metadata": {},
   "outputs": [
    {
     "name": "stdout",
     "output_type": "stream",
     "text": [
      "Top three elves are: 2, 120 and 186 and they are carrying total of 203002.0 calories.\n"
     ]
    }
   ],
   "source": [
    "currentElf = 1\n",
    "currentElfCalories = 0\n",
    "\n",
    "topThreeElves = [1, 2, 3]\n",
    "topThreeElvesCalories = [0, 0, 0]\n",
    "\n",
    "with open('input.txt', mode='r') as input:\n",
    "    for line in input:\n",
    "        try:\n",
    "            if line in ['\\n']:\n",
    "                if currentElfCalories > topThreeElvesCalories[2]:\n",
    "                    topThreeElvesCalories[2] = currentElfCalories\n",
    "                    topThreeElves[2] = currentElf\n",
    "                if currentElfCalories > topThreeElvesCalories[1]:\n",
    "                    topThreeElvesCalories[2] = topThreeElvesCalories[1]\n",
    "                    topThreeElves[2] = topThreeElves[1]\n",
    "                    topThreeElvesCalories[1] = currentElfCalories\n",
    "                    topThreeElves[1] = currentElf\n",
    "                if currentElfCalories > topThreeElvesCalories[0]:\n",
    "                    topThreeElvesCalories[1] = topThreeElvesCalories[0]\n",
    "                    topThreeElves[1] = topThreeElves[0]\n",
    "                    topThreeElvesCalories[0] = currentElfCalories\n",
    "                    topThreeElves[0] = currentElf\n",
    "                currentElf += 1\n",
    "                currentElfCalories = 0\n",
    "            calories = float(line)\n",
    "            currentElfCalories += calories\n",
    "        except ValueError:\n",
    "           pass\n",
    "       \n",
    "print(f'Top three elves are: {topThreeElves[0]}, {topThreeElves[1]} and {topThreeElves[2]} and they are carrying total of {sum(topThreeElvesCalories)} calories.')"
   ]
  }
 ],
 "metadata": {
  "kernelspec": {
   "display_name": "Python 3",
   "language": "python",
   "name": "python3"
  },
  "language_info": {
   "codemirror_mode": {
    "name": "ipython",
    "version": 3
   },
   "file_extension": ".py",
   "mimetype": "text/x-python",
   "name": "python",
   "nbconvert_exporter": "python",
   "pygments_lexer": "ipython3",
   "version": "3.11.1"
  },
  "orig_nbformat": 4,
  "vscode": {
   "interpreter": {
    "hash": "e2de187e2ac018b1966125b89a9965710f2e135e980700bc64d2907d990fa000"
   }
  }
 },
 "nbformat": 4,
 "nbformat_minor": 2
}
